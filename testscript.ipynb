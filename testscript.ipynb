{
 "cells": [
  {
   "cell_type": "code",
   "execution_count": 1,
   "id": "5e4a4ff4-81b7-47f6-962d-51de035c7383",
   "metadata": {},
   "outputs": [],
   "source": [
    "import yaml"
   ]
  },
  {
   "cell_type": "code",
   "execution_count": 2,
   "id": "02b16623-2241-41b8-92ab-924b17fbd277",
   "metadata": {},
   "outputs": [],
   "source": [
    "f = open(\"dags/conf/configPostgress.yaml\", \"r\")"
   ]
  },
  {
   "cell_type": "code",
   "execution_count": 4,
   "id": "b98be5fc-d33b-403e-81ea-0ff745c33022",
   "metadata": {},
   "outputs": [],
   "source": [
    "yaml_data = yaml.safe_load(f)"
   ]
  },
  {
   "cell_type": "code",
   "execution_count": 5,
   "id": "d251892c-6448-4462-bb51-2749ee704ce8",
   "metadata": {},
   "outputs": [],
   "source": [
    "from pydantic import BaseModel\n",
    "\n",
    "\n",
    "class Config(BaseModel):\n",
    "    user:str\n",
    "    password:str\n",
    "    hostname:str\n",
    "    port : str\n",
    "    database:str"
   ]
  },
  {
   "cell_type": "code",
   "execution_count": 6,
   "id": "d21a0202-6711-4edf-99a6-f73b34e00f7f",
   "metadata": {},
   "outputs": [
    {
     "data": {
      "text/plain": [
       "[{'config': 'BDconf',\n",
       "  'user': 'admin',\n",
       "  'password': 'admin123',\n",
       "  'hostname': 'postgres-app',\n",
       "  'port': '5432',\n",
       "  'database': 'project_airflow'}]"
      ]
     },
     "execution_count": 6,
     "metadata": {},
     "output_type": "execute_result"
    }
   ],
   "source": [
    "yaml_data"
   ]
  },
  {
   "cell_type": "code",
   "execution_count": 8,
   "id": "7516e3cb-2d52-4e3d-868f-51722e5b919f",
   "metadata": {},
   "outputs": [],
   "source": [
    "config1 = [Config(**conf) for conf in yaml_data]"
   ]
  },
  {
   "cell_type": "code",
   "execution_count": 9,
   "id": "349679f3-618f-4b61-8480-932d4d838cca",
   "metadata": {},
   "outputs": [
    {
     "data": {
      "text/plain": [
       "[Config(user='admin', password='admin123', hostname='postgres-app', port='5432', database='project_airflow')]"
      ]
     },
     "execution_count": 9,
     "metadata": {},
     "output_type": "execute_result"
    }
   ],
   "source": [
    "config1"
   ]
  },
  {
   "cell_type": "code",
   "execution_count": 43,
   "id": "713ab81f-a890-49b9-be5e-0ef22cdb51b3",
   "metadata": {},
   "outputs": [],
   "source": [
    "from sqlalchemy import create_engine, Integer\n",
    "from sqlalchemy.orm import sessionmaker\n",
    "from sqlalchemy.orm import declarative_base\n",
    "from sqlalchemy import Column\n",
    "from sqlalchemy import String\n",
    "import yaml\n",
    "from pydantic import BaseModel\n",
    "\n",
    "from sqlalchemy import Column\n",
    "from sqlalchemy import ForeignKey\n",
    "from sqlalchemy import Integer\n",
    "from sqlalchemy import String \n",
    "from sqlalchemy.orm import declarative_base\n",
    "from sqlalchemy.orm import relationship\n",
    "\n",
    "class Config(BaseModel):\n",
    "    config_name:str\n",
    "    user:str\n",
    "    password:str\n",
    "    hostname:str\n",
    "    port : str\n",
    "    database:str\n"
   ]
  },
  {
   "cell_type": "code",
   "execution_count": 30,
   "id": "cc4403bd-50eb-405e-aa63-ebcf52ddb0d3",
   "metadata": {},
   "outputs": [
    {
     "name": "stdout",
     "output_type": "stream",
     "text": [
      "Dockerfile  dags\t\t logs\t\t requirements.txt  volume\n",
      "README.md   docker-compose.yaml  plugins\t teestscript.py\n",
      "config\t    dockertest\t\t pyproject.toml  testscript.ipynb\n"
     ]
    }
   ],
   "source": [
    "! ls"
   ]
  },
  {
   "cell_type": "code",
   "execution_count": 44,
   "id": "403de09f-6a54-44ea-8927-c62a787af1a1",
   "metadata": {},
   "outputs": [],
   "source": [
    "path_config='dags/configPostgress.yaml'\n",
    "file = open(path_config, \"r\")   \n",
    "# f = open(path_config, \"r\")\n",
    "yaml_data = yaml.safe_load(file)\n",
    "conf_list = [Config(**conf) for conf in yaml_data]"
   ]
  },
  {
   "cell_type": "code",
   "execution_count": 45,
   "id": "02f25040-95ea-4472-9767-1a590ed12e74",
   "metadata": {},
   "outputs": [],
   "source": [
    "conf= conf_list[0]\n",
    "Base = declarative_base()\n",
    "engine = create_engine(f'postgresql://{conf.user}:{conf.password}@{conf.hostname}:{conf.port}/{conf.database}')\n",
    "\n",
    "class User(Base):\n",
    "    __tablename__ = \"user_account\"\n",
    "\n",
    "    id = Column(Integer, primary_key=True)\n",
    "    name = Column(String(30))\n",
    "    fullname = Column(String)\n",
    "    def __repr__(self):\n",
    "        return f\"User(id={self.id!r}, name={self.name!r}, fullname={self.fullname!r})\"\n",
    "\n",
    "Base.metadata.create_all(engine)"
   ]
  },
  {
   "cell_type": "code",
   "execution_count": 46,
   "id": "d4019e0d-f857-489f-acf9-cc5ddd638286",
   "metadata": {},
   "outputs": [],
   "source": [
    "from sqlalchemy.orm import Session\n",
    "with Session(engine) as session:\n",
    "    spongebob = User(\n",
    "             name=\"spongebob\",\n",
    "             fullname=\"Spongebob Squarepants\")\n",
    "    \n",
    "    sandy = User(\n",
    "             name=\"sandy\",\n",
    "             fullname=\"Sandy Cheeks\")\n",
    "    patrick = User(name=\"patrick\", fullname=\"Patrick Star\")\n",
    "    session.add_all([spongebob, sandy, patrick])\n",
    "    session.commit()"
   ]
  },
  {
   "cell_type": "code",
   "execution_count": 48,
   "id": "2d6c2eb3-ac0a-4655-949b-aec7b94449ed",
   "metadata": {},
   "outputs": [],
   "source": [
    "from sqlalchemy import select\n",
    "session = Session(engine)\n",
    "stmt = select(User).where(User.name.in_([\"spongebob\", \"sandy\"]))"
   ]
  },
  {
   "cell_type": "code",
   "execution_count": 52,
   "id": "d5abe1f8-fa9e-44e2-bdc5-16dec715756e",
   "metadata": {},
   "outputs": [],
   "source": [
    "from sqlalchemy import select\n",
    "session = Session(engine)\n",
    "query = select(User)\n",
    "resultscalar = session.scalars(query)\n",
    "result = session.execute(query).fetchall()"
   ]
  },
  {
   "cell_type": "code",
   "execution_count": 49,
   "id": "5b2ca7d1-b2dc-4fb3-9851-1c00beecbf13",
   "metadata": {},
   "outputs": [
    {
     "name": "stdout",
     "output_type": "stream",
     "text": [
      "User(id=1, name='spongebob', fullname='Spongebob Squarepants')\n",
      "User(id=2, name='sandy', fullname='Sandy Cheeks')\n",
      "User(id=4, name='spongebob', fullname='Spongebob Squarepants')\n",
      "User(id=5, name='sandy', fullname='Sandy Cheeks')\n"
     ]
    }
   ],
   "source": [
    "for user in session.scalars(stmt):\n",
    "    print(user)"
   ]
  },
  {
   "cell_type": "code",
   "execution_count": 53,
   "id": "2d3cb84d-16a1-4c4b-b633-6f09bf23906d",
   "metadata": {},
   "outputs": [
    {
     "name": "stdout",
     "output_type": "stream",
     "text": [
      "User(id=1, name='spongebob', fullname='Spongebob Squarepants')\n",
      "User(id=2, name='sandy', fullname='Sandy Cheeks')\n",
      "User(id=3, name='patrick', fullname='Patrick Star')\n",
      "User(id=4, name='spongebob', fullname='Spongebob Squarepants')\n",
      "User(id=5, name='sandy', fullname='Sandy Cheeks')\n",
      "User(id=6, name='patrick', fullname='Patrick Star')\n"
     ]
    }
   ],
   "source": [
    "for user in resultscalar:\n",
    "    print(user)"
   ]
  }
 ],
 "metadata": {
  "kernelspec": {
   "display_name": "Python 3 (ipykernel)",
   "language": "python",
   "name": "python3"
  },
  "language_info": {
   "codemirror_mode": {
    "name": "ipython",
    "version": 3
   },
   "file_extension": ".py",
   "mimetype": "text/x-python",
   "name": "python",
   "nbconvert_exporter": "python",
   "pygments_lexer": "ipython3",
   "version": "3.10.12"
  }
 },
 "nbformat": 4,
 "nbformat_minor": 5
}
