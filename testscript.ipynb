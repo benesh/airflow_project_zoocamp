{
 "cells": [
  {
   "cell_type": "code",
   "execution_count": 1,
   "id": "5e4a4ff4-81b7-47f6-962d-51de035c7383",
   "metadata": {},
   "outputs": [],
   "source": [
    "import yaml"
   ]
  },
  {
   "cell_type": "code",
   "execution_count": 2,
   "id": "02b16623-2241-41b8-92ab-924b17fbd277",
   "metadata": {},
   "outputs": [],
   "source": [
    "f = open(\"dags/conf/configPostgress.yaml\", \"r\")"
   ]
  },
  {
   "cell_type": "code",
   "execution_count": 4,
   "id": "b98be5fc-d33b-403e-81ea-0ff745c33022",
   "metadata": {},
   "outputs": [],
   "source": [
    "yaml_data = yaml.safe_load(f)"
   ]
  },
  {
   "cell_type": "code",
   "execution_count": 5,
   "id": "d251892c-6448-4462-bb51-2749ee704ce8",
   "metadata": {},
   "outputs": [],
   "source": [
    "from pydantic import BaseModel\n",
    "\n",
    "\n",
    "class Config(BaseModel):\n",
    "    user:str\n",
    "    password:str\n",
    "    hostname:str\n",
    "    port : str\n",
    "    database:str"
   ]
  },
  {
   "cell_type": "code",
   "execution_count": 6,
   "id": "d21a0202-6711-4edf-99a6-f73b34e00f7f",
   "metadata": {},
   "outputs": [
    {
     "data": {
      "text/plain": [
       "[{'config': 'BDconf',\n",
       "  'user': 'admin',\n",
       "  'password': 'admin123',\n",
       "  'hostname': 'postgres-app',\n",
       "  'port': '5432',\n",
       "  'database': 'project_airflow'}]"
      ]
     },
     "execution_count": 6,
     "metadata": {},
     "output_type": "execute_result"
    }
   ],
   "source": [
    "yaml_data"
   ]
  },
  {
   "cell_type": "code",
   "execution_count": 8,
   "id": "7516e3cb-2d52-4e3d-868f-51722e5b919f",
   "metadata": {},
   "outputs": [],
   "source": [
    "config1 = [Config(**conf) for conf in yaml_data]"
   ]
  },
  {
   "cell_type": "code",
   "execution_count": 9,
   "id": "349679f3-618f-4b61-8480-932d4d838cca",
   "metadata": {},
   "outputs": [
    {
     "data": {
      "text/plain": [
       "[Config(user='admin', password='admin123', hostname='postgres-app', port='5432', database='project_airflow')]"
      ]
     },
     "execution_count": 9,
     "metadata": {},
     "output_type": "execute_result"
    }
   ],
   "source": [
    "config1"
   ]
  },
  {
   "cell_type": "code",
   "execution_count": 19,
   "id": "d748eb9d-3942-47a5-9827-1238e99d2377",
   "metadata": {},
   "outputs": [
    {
     "data": {
      "text/plain": [
       "'admin'"
      ]
     },
     "execution_count": 19,
     "metadata": {},
     "output_type": "execute_result"
    }
   ],
   "source": [
    "config1[0].user"
   ]
  }
 ],
 "metadata": {
  "kernelspec": {
   "display_name": "Python 3 (ipykernel)",
   "language": "python",
   "name": "python3"
  },
  "language_info": {
   "codemirror_mode": {
    "name": "ipython",
    "version": 3
   },
   "file_extension": ".py",
   "mimetype": "text/x-python",
   "name": "python",
   "nbconvert_exporter": "python",
   "pygments_lexer": "ipython3",
   "version": "3.10.12"
  }
 },
 "nbformat": 4,
 "nbformat_minor": 5
}
